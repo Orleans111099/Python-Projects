{
 "cells": [
  {
   "cell_type": "code",
   "execution_count": 48,
   "id": "27615187",
   "metadata": {},
   "outputs": [],
   "source": [
    "class FoodFinderApp:\n",
    "    category = \"Food Menu\"\n",
    "    def __init__(self, restaurant, location):\n",
    "        self.restaurant = restaurant\n",
    "        self.location = location\n",
    "           \n",
    "    def info(self):\n",
    "        print({\"Restaurant\": self.restaurant, \"Location\": self.location})\n",
    "    \n",
    "    \n",
    "        \n",
    "class Breakfast(FoodFinderApp):\n",
    "    category = \"Breakfast Menu\"\n",
    "    def __init__(self, restaurant, location, meal, price):\n",
    "        super().__init__(restaurant, location)\n",
    "        self.meal = meal\n",
    "        self.price = price\n",
    "        \n",
    "    def info(self):\n",
    "        print({\"Restaurant\": self.restaurant, \"Location\": self.location, \"Meal\": self.meal, \"Price\": self.price})\n",
    "        \n",
    "class Lunch(FoodFinderApp):\n",
    "    category = \"Lunch Menu\"\n",
    "    def __init__(self, meal, price):\n",
    "        super().__init__(restaurant, location)\n",
    "        self.meal = meal\n",
    "        self.price = price\n",
    "        \n",
    "    def info(self):\n",
    "        print({\"Restaurant\": self.restaurant, \"Location\": self.location, \"Meal\": self.meal, \"Price\": self.price})\n",
    "        \n",
    "class Supper(FoodFinderApp):\n",
    "    category = \"Supper Menu\"\n",
    "    def __init__(self, meal, price):\n",
    "        super().__init__(restaurant, location)\n",
    "        self.meal = meal\n",
    "        self.price = price\n",
    "        \n",
    "    def info(self):\n",
    "        print({\"Restaurant\": self.restaurant, \"Location\": self.location, \"Meal\": self.meal, \"Price\": self.price})    "
   ]
  },
  {
   "cell_type": "code",
   "execution_count": 49,
   "id": "2cd178d5",
   "metadata": {},
   "outputs": [],
   "source": [
    "user1 = Breakfast(\"The Farmer's Blossom\", \"Kwabenya Point 1\", \"Tea and Bread\", 50)\n",
    "user2 = Breakfast(\"The Farmer's Blossom\", \"Kwabenya Point 1\", \"Koko and Bread\", 50)\n",
    "user3 = Breakfast(\"The Farmer's Blossom\", \"Kwabenya Point 1\", \"Oatmeal and Toasted Bread\", 55)\n",
    "user4 = Breakfast(\"Little Street Tavern\", \"Osu oxford Street\", \"Rice pudding and Toasted Bread\", 70)\n",
    "user5 = Breakfast(\"Little Street Tavern\", \"Osu oxford Street\", \"Tea and Croissant\", 80)\n",
    "user6 = Breakfast(\"Little Street Tavern\", \"Osu oxford Street\", \"Pancakes with Syrup\", 85)\n",
    "user7 = Breakfast(\"The Dove Inn\", \"Madina Estates\", \"Tom Brown and Toasted Bread\", 40)\n",
    "user8 = Breakfast(\"The Dove Inn\", \"Madina Estates\", \"Oatmeal and Toasted Bread\", 45)\n",
    "user9 = Breakfast(\"The Dove Inn\", \"Madina Estates\", \"Hausa Koko and Kose\", 42)\n",
    "user10 = Breakfast(\"Bliss Cuisine\", \"West Legon\", \"Oblayo and Bofrot\", 68)\n",
    "user11 = Breakfast(\"Bliss Cuisine\", \"West Legon\", \"Oatmeal and Toasted Bread with Eggs\", 70)\n",
    "user12 = Breakfast(\"Bliss Cuisine\", \"West Legon\", \"Breakfast Wrap\", 83)\n",
    "user13 = Breakfast(\"Fancy Lotus & Co.\", \"East Legon\", \"Chicken and Waffles\", 250)\n",
    "user14 = Breakfast(\"Fancy Lotus & Co.\", \"East Legon\", \"French Toast and Hot Choco\", 200)\n",
    "user15 = Breakfast(\"Fancy Lotus & Co.\", \"East Legon\", \"French Toast with Eggs, Sausages and Bacon\", 300)"
   ]
  },
  {
   "cell_type": "code",
   "execution_count": null,
   "id": "c76d8d39",
   "metadata": {},
   "outputs": [],
   "source": [
    "user7 = Lunch(\"The Dove Inn\", \"Madina Estates\", \"Waakye\", 40)"
   ]
  },
  {
   "cell_type": "code",
   "execution_count": 50,
   "id": "7ce5d1b8",
   "metadata": {},
   "outputs": [
    {
     "name": "stdout",
     "output_type": "stream",
     "text": [
      "{'Restaurant': \"The Farmer's Blossom\", 'Location': 'Kwabenya Point 1', 'Meal': 'Tea and Bread', 'Price': 50}\n"
     ]
    }
   ],
   "source": [
    "user1.info()"
   ]
  },
  {
   "cell_type": "code",
   "execution_count": 6,
   "id": "2ee9ad8c",
   "metadata": {},
   "outputs": [
    {
     "ename": "NameError",
     "evalue": "name 'main' is not defined",
     "output_type": "error",
     "traceback": [
      "\u001b[1;31m---------------------------------------------------------------------------\u001b[0m",
      "\u001b[1;31mNameError\u001b[0m                                 Traceback (most recent call last)",
      "\u001b[1;32m~\\AppData\\Local\\Temp\\ipykernel_32068\\3146444357.py\u001b[0m in \u001b[0;36m<module>\u001b[1;34m\u001b[0m\n\u001b[0;32m     68\u001b[0m \u001b[1;33m\u001b[0m\u001b[0m\n\u001b[0;32m     69\u001b[0m \u001b[1;32mif\u001b[0m \u001b[0m__name__\u001b[0m \u001b[1;33m==\u001b[0m \u001b[1;34m\"__main__\"\u001b[0m\u001b[1;33m:\u001b[0m\u001b[1;33m\u001b[0m\u001b[1;33m\u001b[0m\u001b[0m\n\u001b[1;32m---> 70\u001b[1;33m     \u001b[0mmain\u001b[0m\u001b[1;33m(\u001b[0m\u001b[1;33m)\u001b[0m\u001b[1;33m\u001b[0m\u001b[1;33m\u001b[0m\u001b[0m\n\u001b[0m\u001b[0;32m     71\u001b[0m     \u001b[1;31m# Define menu items\u001b[0m\u001b[1;33m\u001b[0m\u001b[1;33m\u001b[0m\u001b[0m\n\u001b[0;32m     72\u001b[0m     \u001b[0muser1\u001b[0m \u001b[1;33m=\u001b[0m \u001b[0mBreakfast\u001b[0m\u001b[1;33m(\u001b[0m\u001b[1;34m\"The Farmer's Blossom\"\u001b[0m\u001b[1;33m,\u001b[0m \u001b[1;34m\"Kwabenya Point 1\"\u001b[0m\u001b[1;33m,\u001b[0m \u001b[1;34m\"Tea and Bread\"\u001b[0m\u001b[1;33m,\u001b[0m \u001b[1;36m50\u001b[0m\u001b[1;33m)\u001b[0m\u001b[1;33m\u001b[0m\u001b[1;33m\u001b[0m\u001b[0m\n",
      "\u001b[1;31mNameError\u001b[0m: name 'main' is not defined"
     ]
    }
   ],
   "source": [
    "class FoodFinderApp:\n",
    "    category = \"Food Menu\"\n",
    "    def __init__(self, restaurant, location):\n",
    "        self.restaurant = restaurant\n",
    "        self.location = location\n",
    "           \n",
    "    def info(self):\n",
    "        print({\"Restaurant\": self.restaurant, \"Location\": self.location})\n",
    "    \n",
    "    \n",
    "        \n",
    "class Breakfast(FoodFinderApp):\n",
    "    category = \"Breakfast Menu\"\n",
    "    def __init__(self, restaurant, location, meal, price):\n",
    "        super().__init__(restaurant, location)\n",
    "        self.meal = meal\n",
    "        self.price = price\n",
    "        \n",
    "    def info(self):\n",
    "        print({\"Restaurant\": self.restaurant, \"Location\": self.location, \"Meal\": self.meal, \"Price\": self.price})\n",
    "        \n",
    "class Lunch(FoodFinderApp):\n",
    "    category = \"Lunch Menu\"\n",
    "    def __init__(self, meal, price):\n",
    "        super().__init__(restaurant, location)\n",
    "        self.meal = meal\n",
    "        self.price = price\n",
    "        \n",
    "    def info(self):\n",
    "        print({\"Restaurant\": self.restaurant, \"Location\": self.location, \"Meal\": self.meal, \"Price\": self.price})\n",
    "        \n",
    "class Supper(FoodFinderApp):\n",
    "    category = \"Supper Menu\"\n",
    "    def __init__(self, meal, price):\n",
    "        super().__init__(restaurant, location)\n",
    "        self.meal = meal\n",
    "        self.price = price\n",
    "        \n",
    "    def info(self):\n",
    "        print({\"Restaurant\": self.restaurant, \"Location\": self.location, \"Meal\": self.meal, \"Price\": self.price})   \n",
    "    def search_menu(menu_items, restaurant=None, location=None, meal=None, price=None):\n",
    "        \"\"\"\n",
    "        Given a list of menu items, returns a list of items that match the search criteria.\n",
    "\n",
    "        Parameters:\n",
    "        - menu_items: A list of menu items to search through.\n",
    "        - restaurant: (optional) A string representing the name of the restaurant to search for.\n",
    "        - location: (optional) A string representing the location of the restaurant to search for.\n",
    "        - meal: (optional) A string representing the meal to search for.\n",
    "        - price: (optional) An integer representing the price of the meal to search for.\n",
    "\n",
    "        Returns:\n",
    "        - A list of menu items that match the search criteria.\n",
    "        \"\"\"\n",
    "        results = []\n",
    "        for item in menu_items:\n",
    "            if restaurant and item.restaurant != restaurant:\n",
    "                continue\n",
    "            if location and item.location != location:\n",
    "                continue\n",
    "            if meal and item.meal != meal:\n",
    "                continue\n",
    "            if price and item.price != price:\n",
    "                continue\n",
    "            results.append(item)\n",
    "        return results\n",
    "\n",
    "\n",
    "if __name__ == \"__main__\":\n",
    "    # Define menu items\n",
    "    user1 = Breakfast(\"The Farmer's Blossom\", \"Kwabenya Point 1\", \"Tea and Bread\", 50)\n",
    "    user2 = Breakfast(\"The Farmer's Blossom\", \"Kwabenya Point 1\", \"Koko and Bread\", 50)\n",
    "    user3 = Breakfast(\"The Farmer's Blossom\", \"Kwabenya Point 1\", \"Oatmeal and Toasted Bread\", 55)\n",
    "    user4 = Breakfast(\"Little Street Tavern\", \"Osu oxford Street\", \"Rice pudding and Toasted Bread\", 70)\n",
    "    user5 = Breakfast(\"Little Street Tavern\", \"Osu oxford Street\", \"Tea and Croissant\", 80)\n",
    "    user6 = Breakfast(\"Little Street Tavern\", \"Osu oxford Street\", \"Pancakes with Syrup\", 85)\n",
    "    user7 = Breakfast(\"The Dove Inn\", \"Madina Estates\", \"Tom Brown and Toasted Bread\", 40)\n",
    "    user8 = Breakfast(\"The Dove Inn\", \"Madina Estates\", \"Oatmeal and Toasted Bread\", 45)\n",
    "    user9 = Breakfast(\"The Dove Inn\", \"Madina Estates\", \"Hausa Koko and Kose\", 42)\n",
    "    user10 = Breakfast(\"Bliss Cuisine\", \"West Legon\", \"Oblayo and Bofrot\", 68)\n",
    "    user11 = Breakfast(\"Bliss Cuisine\", \"West Legon\", \"Oatmeal and Toasted Bread with Eggs\", 70)\n",
    "    user12 = Breakfast(\"Bliss Cuisine\", \"West Legon\", \"Breakfast Wrap\", 83)\n",
    "    user13 = Breakfast(\"Fancy Lotus & Co.\", \"East Legon\", \"Chicken and Waffles\", 250)\n",
    "    user14 = Breakfast(\"Fancy Lotus & Co.\", \"East Legon\", \"French Toast and Hot Choco\", 200)\n",
    "    user15 = Breakfast(\"Fancy Lotus & Co.\", \"East Legon\", \"French Toast with Eggs, Sausages and Bacon\", 300)"
   ]
  },
  {
   "cell_type": "code",
   "execution_count": 3,
   "id": "55567c58",
   "metadata": {},
   "outputs": [
    {
     "name": "stdout",
     "output_type": "stream",
     "text": [
      "{'Restaurant': \"The Farmer's Blossom\", 'Location': 'Kwabenya Point 1', 'Meal': 'Tea and Bread', 'Price': 50}\n"
     ]
    }
   ],
   "source": [
    "user1.info()"
   ]
  },
  {
   "cell_type": "code",
   "execution_count": 4,
   "id": "511ef5a5",
   "metadata": {},
   "outputs": [
    {
     "name": "stdout",
     "output_type": "stream",
     "text": [
      "{'Restaurant': 'Fancy Lotus & Co.', 'Location': 'East Legon', 'Meal': 'French Toast with Eggs, Sausages and Bacon', 'Price': 300}\n"
     ]
    }
   ],
   "source": [
    "user15.info()"
   ]
  },
  {
   "cell_type": "code",
   "execution_count": 5,
   "id": "17e20641",
   "metadata": {},
   "outputs": [],
   "source": [
    "class FoodFinderApp:\n",
    "    category = \"Food Menu\"\n",
    "    \n",
    "    def _init_(self, restaurant, location):\n",
    "        self.restaurant = restaurant\n",
    "        self.location = location\n",
    "        \n",
    "    def info(self):\n",
    "        print({\"Restaurant\": self.restaurant, \"Location\": self.location})\n",
    "        \n",
    "        \n",
    "class Breakfast(FoodFinderApp):\n",
    "    category = \"Breakfast Menu\"\n",
    "    \n",
    "    def _init_(self, restaurant, location, meal, price):\n",
    "        super()._init_(restaurant, location)\n",
    "        self.meal = meal\n",
    "        self.price = price\n",
    "        \n",
    "    def info(self):\n",
    "        print({\"Restaurant\": self.restaurant, \"Location\": self.location, \"Meal\": self.meal, \"Price\": self.price})\n",
    "        \n",
    "        \n",
    "class Lunch(FoodFinderApp):\n",
    "    category = \"Lunch Menu\"\n",
    "    \n",
    "    def _init_(self, restaurant, location, meal, price):\n",
    "        super()._init_(restaurant, location)\n",
    "        self.meal = meal\n",
    "        self.price = price\n",
    "        \n",
    "    def info(self):\n",
    "        print({\"Restaurant\": self.restaurant, \"Location\": self.location, \"Meal\": self.meal, \"Price\": self.price})\n",
    "        \n",
    "        \n",
    "class Supper(FoodFinderApp):\n",
    "    category = \"Supper Menu\"\n",
    "    \n",
    "    def _init_(self, restaurant, location, meal, price):\n",
    "        super()._init_(restaurant, location)\n",
    "        self.meal = meal\n",
    "        self.price = price\n",
    "        \n",
    "    def info(self):\n",
    "        print({\"Restaurant\": self.restaurant, \"Location\": self.location, \"Meal\": self.meal, \"Price\": self.price})"
   ]
  },
  {
   "cell_type": "code",
   "execution_count": null,
   "id": "1113bed1",
   "metadata": {},
   "outputs": [],
   "source": []
  }
 ],
 "metadata": {
  "kernelspec": {
   "display_name": "Python 3 (ipykernel)",
   "language": "python",
   "name": "python3"
  },
  "language_info": {
   "codemirror_mode": {
    "name": "ipython",
    "version": 3
   },
   "file_extension": ".py",
   "mimetype": "text/x-python",
   "name": "python",
   "nbconvert_exporter": "python",
   "pygments_lexer": "ipython3",
   "version": "3.9.13"
  }
 },
 "nbformat": 4,
 "nbformat_minor": 5
}
