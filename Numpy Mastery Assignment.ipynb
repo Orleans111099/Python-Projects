{
 "cells": [
  {
   "cell_type": "markdown",
   "id": "c0561a04",
   "metadata": {},
   "source": [
    "### Numpy Mastery Assignment\n",
    "- Answer all questions\n",
    "- Submission : 20th September 2022"
   ]
  },
  {
   "cell_type": "markdown",
   "id": "e04a249e",
   "metadata": {},
   "source": [
    "1. Create a 1D array of numbers from 0 to 9"
   ]
  },
  {
   "cell_type": "code",
   "execution_count": 1,
   "id": "cb1a40be",
   "metadata": {},
   "outputs": [],
   "source": [
    "import numpy as np\n",
    "\n",
    "arr = np.array([0,1,2,3,4,5,6,7,8,9])"
   ]
  },
  {
   "cell_type": "code",
   "execution_count": 2,
   "id": "e87862c7",
   "metadata": {},
   "outputs": [
    {
     "data": {
      "text/plain": [
       "array([0, 1, 2, 3, 4, 5, 6, 7, 8, 9])"
      ]
     },
     "execution_count": 2,
     "metadata": {},
     "output_type": "execute_result"
    }
   ],
   "source": [
    "arr"
   ]
  },
  {
   "cell_type": "markdown",
   "id": "f3b8a05e",
   "metadata": {},
   "source": [
    "2. Create a 3x3 numpy of all True "
   ]
  },
  {
   "cell_type": "code",
   "execution_count": 3,
   "id": "1d4ff255",
   "metadata": {},
   "outputs": [
    {
     "data": {
      "text/plain": [
       "array([[ True,  True,  True],\n",
       "       [ True,  True,  True],\n",
       "       [ True,  True,  True]])"
      ]
     },
     "execution_count": 3,
     "metadata": {},
     "output_type": "execute_result"
    }
   ],
   "source": [
    "true_array = np.full((3, 3), True)\n",
    "true_array"
   ]
  },
  {
   "cell_type": "markdown",
   "id": "9bf76467",
   "metadata": {},
   "source": [
    "3. Create an array of numbers from 20 to 39"
   ]
  },
  {
   "cell_type": "code",
   "execution_count": 4,
   "id": "c2862be0",
   "metadata": {},
   "outputs": [
    {
     "data": {
      "text/plain": [
       "array([20, 21, 22, 23, 24, 25, 26, 27, 28, 29, 30, 31, 32, 33, 34, 35, 36,\n",
       "       37, 38, 39])"
      ]
     },
     "execution_count": 4,
     "metadata": {},
     "output_type": "execute_result"
    }
   ],
   "source": [
    "arr_1 = np.arange(20,40)\n",
    "arr_1"
   ]
  },
  {
   "cell_type": "markdown",
   "id": "c68a12af",
   "metadata": {},
   "source": [
    "4. Replace all odd numbers in Q3 by -1"
   ]
  },
  {
   "cell_type": "code",
   "execution_count": 5,
   "id": "1ed5e90f",
   "metadata": {},
   "outputs": [
    {
     "data": {
      "text/plain": [
       "array([20, -1, 22, -1, 24, -1, 26, -1, 28, -1, 30, -1, 32, -1, 34, -1, 36,\n",
       "       -1, 38, -1])"
      ]
     },
     "execution_count": 5,
     "metadata": {},
     "output_type": "execute_result"
    }
   ],
   "source": [
    "arr_1 = np.arange(20,40)\n",
    "\n",
    "arr_1[arr_1%2 != 0] = -1\n",
    "arr_1"
   ]
  },
  {
   "cell_type": "markdown",
   "id": "6bb94688",
   "metadata": {},
   "source": [
    "5. Create two arrays of length 10 and print out  common items in both arrays"
   ]
  },
  {
   "cell_type": "code",
   "execution_count": 6,
   "id": "2664ecc2",
   "metadata": {},
   "outputs": [
    {
     "data": {
      "text/plain": [
       "{10, 20}"
      ]
     },
     "execution_count": 6,
     "metadata": {},
     "output_type": "execute_result"
    }
   ],
   "source": [
    "arr_2 = np.arange(10,60,5)\n",
    "arr_2\n",
    "\n",
    "arr_3 = np.arange(10,30,2)\n",
    "arr_3\n",
    "\n",
    "common_values = set(arr_2).intersection(arr_3)\n",
    "common_values"
   ]
  },
  {
   "cell_type": "markdown",
   "id": "c4b172be",
   "metadata": {},
   "source": [
    "6.  Create a 5x5 identity matrix"
   ]
  },
  {
   "cell_type": "code",
   "execution_count": 7,
   "id": "ad39625a",
   "metadata": {},
   "outputs": [
    {
     "data": {
      "text/plain": [
       "array([[1., 0., 0., 0., 0.],\n",
       "       [0., 1., 0., 0., 0.],\n",
       "       [0., 0., 1., 0., 0.],\n",
       "       [0., 0., 0., 1., 0.],\n",
       "       [0., 0., 0., 0., 1.]])"
      ]
     },
     "execution_count": 7,
     "metadata": {},
     "output_type": "execute_result"
    }
   ],
   "source": [
    "arr_4 = np.identity(5)\n",
    "arr_4"
   ]
  },
  {
   "cell_type": "markdown",
   "id": "0faa0eca",
   "metadata": {},
   "source": [
    "7. In the code cell below define and print a set of arrays defined x, y and z. The array x should be take the form [10 12 9 2 20], y should have  101  values from  10  to  20  inclusive and z should be a  2×3  array of ones."
   ]
  },
  {
   "cell_type": "code",
   "execution_count": 8,
   "id": "2cb59de6",
   "metadata": {
    "scrolled": true
   },
   "outputs": [
    {
     "data": {
      "text/plain": [
       "array([10, 12,  9,  2, 20])"
      ]
     },
     "execution_count": 8,
     "metadata": {},
     "output_type": "execute_result"
    }
   ],
   "source": [
    "x = np.array([10,12,9,2,20])\n",
    "x"
   ]
  },
  {
   "cell_type": "code",
   "execution_count": 9,
   "id": "9b85981a",
   "metadata": {},
   "outputs": [
    {
     "data": {
      "text/plain": [
       "array([10. , 10.1, 10.2, 10.3, 10.4, 10.5, 10.6, 10.7, 10.8, 10.9, 11. ,\n",
       "       11.1, 11.2, 11.3, 11.4, 11.5, 11.6, 11.7, 11.8, 11.9, 12. , 12.1,\n",
       "       12.2, 12.3, 12.4, 12.5, 12.6, 12.7, 12.8, 12.9, 13. , 13.1, 13.2,\n",
       "       13.3, 13.4, 13.5, 13.6, 13.7, 13.8, 13.9, 14. , 14.1, 14.2, 14.3,\n",
       "       14.4, 14.5, 14.6, 14.7, 14.8, 14.9, 15. , 15.1, 15.2, 15.3, 15.4,\n",
       "       15.5, 15.6, 15.7, 15.8, 15.9, 16. , 16.1, 16.2, 16.3, 16.4, 16.5,\n",
       "       16.6, 16.7, 16.8, 16.9, 17. , 17.1, 17.2, 17.3, 17.4, 17.5, 17.6,\n",
       "       17.7, 17.8, 17.9, 18. , 18.1, 18.2, 18.3, 18.4, 18.5, 18.6, 18.7,\n",
       "       18.8, 18.9, 19. , 19.1, 19.2, 19.3, 19.4, 19.5, 19.6, 19.7, 19.8,\n",
       "       19.9, 20. ])"
      ]
     },
     "execution_count": 9,
     "metadata": {},
     "output_type": "execute_result"
    }
   ],
   "source": [
    "y = np.linspace(10,20,101)\n",
    "y"
   ]
  },
  {
   "cell_type": "code",
   "execution_count": 10,
   "id": "5596ba7d",
   "metadata": {},
   "outputs": [
    {
     "data": {
      "text/plain": [
       "array([[1., 1., 1.],\n",
       "       [1., 1., 1.]])"
      ]
     },
     "execution_count": 10,
     "metadata": {},
     "output_type": "execute_result"
    }
   ],
   "source": [
    "z = np.ones((2,3))\n",
    "z"
   ]
  },
  {
   "cell_type": "markdown",
   "id": "76aaeb7c",
   "metadata": {},
   "source": [
    "8.Using the available Numpy functions on array x from problem  7 , find the average and the standard deviation of the value in this array. Redefine x as an array with all these values sorted in numerical order."
   ]
  },
  {
   "cell_type": "code",
   "execution_count": 11,
   "id": "d1a869ff",
   "metadata": {},
   "outputs": [
    {
     "data": {
      "text/plain": [
       "array([10, 12,  9,  2, 20])"
      ]
     },
     "execution_count": 11,
     "metadata": {},
     "output_type": "execute_result"
    }
   ],
   "source": [
    "x = np.array([10,12,9,2,20])\n",
    "x"
   ]
  },
  {
   "cell_type": "code",
   "execution_count": 12,
   "id": "a2bebc52",
   "metadata": {},
   "outputs": [
    {
     "data": {
      "text/plain": [
       "10.6"
      ]
     },
     "execution_count": 12,
     "metadata": {},
     "output_type": "execute_result"
    }
   ],
   "source": [
    "np.mean(x)"
   ]
  },
  {
   "cell_type": "code",
   "execution_count": 13,
   "id": "9368d959",
   "metadata": {},
   "outputs": [
    {
     "data": {
      "text/plain": [
       "5.782732917920384"
      ]
     },
     "execution_count": 13,
     "metadata": {},
     "output_type": "execute_result"
    }
   ],
   "source": [
    "np.std(x)"
   ]
  },
  {
   "cell_type": "code",
   "execution_count": 14,
   "id": "eb212e00",
   "metadata": {},
   "outputs": [
    {
     "data": {
      "text/plain": [
       "array([ 2,  9, 10, 12, 20])"
      ]
     },
     "execution_count": 14,
     "metadata": {},
     "output_type": "execute_result"
    }
   ],
   "source": [
    "np.sort(x)"
   ]
  },
  {
   "cell_type": "markdown",
   "id": "1b592987",
   "metadata": {},
   "source": [
    "9. Create a 10x10 array with random values and find the minimum and maximum values"
   ]
  },
  {
   "cell_type": "code",
   "execution_count": 15,
   "id": "5eae92ce",
   "metadata": {
    "scrolled": true
   },
   "outputs": [
    {
     "data": {
      "text/plain": [
       "array([[51,  5, 82, 13, 35, 39, 42, 43,  1, 64],\n",
       "       [47, 84, 15, 45, 91, 51, 78, 76, 48, 81],\n",
       "       [47,  4, 28, 46, 25,  2, 80, 49, 71, 97],\n",
       "       [72, 61, 69, 45, 14, 54, 13, 93, 14, 37],\n",
       "       [82, 78, 46, 79, 91, 81, 12, 70, 61, 58],\n",
       "       [27, 13, 34, 10, 14, 30, 71, 75, 66, 12],\n",
       "       [13,  9,  2, 61, 68, 19, 81, 17, 44, 24],\n",
       "       [ 1, 98, 95, 38, 79, 83, 46, 97,  4, 66],\n",
       "       [80, 57, 31, 33, 54, 29, 74, 22, 32, 12],\n",
       "       [73, 90, 26, 74, 40, 43, 73,  6, 12, 63]])"
      ]
     },
     "execution_count": 15,
     "metadata": {},
     "output_type": "execute_result"
    }
   ],
   "source": [
    "random_array = np.random.randint(100, size =(10,10))\n",
    "random_array"
   ]
  },
  {
   "cell_type": "code",
   "execution_count": 16,
   "id": "96758f47",
   "metadata": {
    "scrolled": true
   },
   "outputs": [
    {
     "data": {
      "text/plain": [
       "98"
      ]
     },
     "execution_count": 16,
     "metadata": {},
     "output_type": "execute_result"
    }
   ],
   "source": [
    "np.max(random_array)"
   ]
  },
  {
   "cell_type": "code",
   "execution_count": 17,
   "id": "1d31c515",
   "metadata": {},
   "outputs": [
    {
     "data": {
      "text/plain": [
       "1"
      ]
     },
     "execution_count": 17,
     "metadata": {},
     "output_type": "execute_result"
    }
   ],
   "source": [
    "np.min(random_array)"
   ]
  },
  {
   "cell_type": "markdown",
   "id": "4e3bcb2c",
   "metadata": {},
   "source": [
    "10. Create a 3x3 matrix with values ranging from 0 to 8"
   ]
  },
  {
   "cell_type": "code",
   "execution_count": 18,
   "id": "c8b1484d",
   "metadata": {},
   "outputs": [
    {
     "data": {
      "text/plain": [
       "array([0, 1, 2, 3, 4, 5, 6, 7, 8])"
      ]
     },
     "execution_count": 18,
     "metadata": {},
     "output_type": "execute_result"
    }
   ],
   "source": [
    "arr_4 = np.arange(0,9)\n",
    "arr_4"
   ]
  },
  {
   "cell_type": "code",
   "execution_count": 19,
   "id": "b4cf5503",
   "metadata": {},
   "outputs": [
    {
     "data": {
      "text/plain": [
       "array([[0, 1, 2],\n",
       "       [3, 4, 5],\n",
       "       [6, 7, 8]])"
      ]
     },
     "execution_count": 19,
     "metadata": {},
     "output_type": "execute_result"
    }
   ],
   "source": [
    "np.reshape(arr_4,(3,3))"
   ]
  },
  {
   "cell_type": "markdown",
   "id": "21052f20",
   "metadata": {},
   "source": [
    "11.  Generates an array [[1 2 3] [4 5 6]]"
   ]
  },
  {
   "cell_type": "code",
   "execution_count": 20,
   "id": "d8f53b06",
   "metadata": {},
   "outputs": [
    {
     "data": {
      "text/plain": [
       "array([[1, 2, 3],\n",
       "       [4, 5, 6]])"
      ]
     },
     "execution_count": 20,
     "metadata": {},
     "output_type": "execute_result"
    }
   ],
   "source": [
    "arr_5 = np.array([[1,2,3], [4,5,6]])\n",
    "arr_5"
   ]
  },
  {
   "cell_type": "markdown",
   "id": "67633962",
   "metadata": {},
   "source": [
    "12. Generates an array [0 2.5 5 7.5 10]"
   ]
  },
  {
   "cell_type": "code",
   "execution_count": 21,
   "id": "0eebd1b7",
   "metadata": {},
   "outputs": [
    {
     "data": {
      "text/plain": [
       "array([ 0. ,  2.5,  5. ,  7.5, 10. ])"
      ]
     },
     "execution_count": 21,
     "metadata": {},
     "output_type": "execute_result"
    }
   ],
   "source": [
    "arr_6 = np.array([0, 2.5, 5, 7.5, 10])\n",
    "arr_6"
   ]
  },
  {
   "cell_type": "markdown",
   "id": "2ac6248c",
   "metadata": {},
   "source": [
    "13. Generates an 3x3 array of zeros"
   ]
  },
  {
   "cell_type": "code",
   "execution_count": 22,
   "id": "52e6773d",
   "metadata": {},
   "outputs": [
    {
     "data": {
      "text/plain": [
       "array([[0., 0., 0.],\n",
       "       [0., 0., 0.],\n",
       "       [0., 0., 0.]])"
      ]
     },
     "execution_count": 22,
     "metadata": {},
     "output_type": "execute_result"
    }
   ],
   "source": [
    "arr_7 = np.zeros((3,3))\n",
    "arr_7"
   ]
  },
  {
   "cell_type": "markdown",
   "id": "248b6aa4",
   "metadata": {},
   "source": [
    "14. Create array from 0.1 to 10 with 12 elements, inclusively"
   ]
  },
  {
   "cell_type": "code",
   "execution_count": 23,
   "id": "ba533fe0",
   "metadata": {},
   "outputs": [
    {
     "data": {
      "text/plain": [
       "array([ 0.1,  1. ,  1.9,  2.8,  3.7,  4.6,  5.5,  6.4,  7.3,  8.2,  9.1,\n",
       "       10. ])"
      ]
     },
     "execution_count": 23,
     "metadata": {},
     "output_type": "execute_result"
    }
   ],
   "source": [
    "arr_8 = np.linspace(0.1,10,12)\n",
    "arr_8"
   ]
  },
  {
   "cell_type": "markdown",
   "id": "3214f8ed",
   "metadata": {},
   "source": [
    "15. Create a matrix with seven columns and five rows of ten(10)."
   ]
  },
  {
   "cell_type": "code",
   "execution_count": 24,
   "id": "96e3e7dd",
   "metadata": {},
   "outputs": [
    {
     "data": {
      "text/plain": [
       "array([[10, 10, 10, 10, 10, 10, 10],\n",
       "       [10, 10, 10, 10, 10, 10, 10],\n",
       "       [10, 10, 10, 10, 10, 10, 10],\n",
       "       [10, 10, 10, 10, 10, 10, 10],\n",
       "       [10, 10, 10, 10, 10, 10, 10]])"
      ]
     },
     "execution_count": 24,
     "metadata": {},
     "output_type": "execute_result"
    }
   ],
   "source": [
    "arr_9 = np.full((5,7), 10)\n",
    "arr_9"
   ]
  },
  {
   "cell_type": "markdown",
   "id": "14397e1e",
   "metadata": {},
   "source": [
    "16. What is the difference between numpy and list?"
   ]
  },
  {
   "cell_type": "code",
   "execution_count": null,
   "id": "e9edfc6c",
   "metadata": {},
   "outputs": [],
   "source": [
    "#List can stores data of all data types but numpy stores only numerical data"
   ]
  },
  {
   "cell_type": "markdown",
   "id": "4fcce8ae",
   "metadata": {},
   "source": [
    "17. Create a 1D array of ones consisting of  50  values. Change the values of the array so that the values alternate between ones and zeros ie  1,0,1,0,1,0,1,0,1...  ensuring that the starting value is  1 "
   ]
  },
  {
   "cell_type": "code",
   "execution_count": 25,
   "id": "7df1f606",
   "metadata": {},
   "outputs": [
    {
     "data": {
      "text/plain": [
       "array([1., 0., 1., 0., 1., 0., 1., 0., 1., 0., 1., 0., 1., 0., 1., 0., 1.,\n",
       "       0., 1., 0., 1., 0., 1., 0., 1., 0., 1., 0., 1., 0., 1., 0., 1., 0.,\n",
       "       1., 0., 1., 0., 1., 0., 1., 0., 1., 0., 1., 0., 1., 0., 1., 0.])"
      ]
     },
     "execution_count": 25,
     "metadata": {},
     "output_type": "execute_result"
    }
   ],
   "source": [
    "arr_10 = np.ones(50)\n",
    "arr_10[1::2] = 0\n",
    "arr_10"
   ]
  },
  {
   "cell_type": "markdown",
   "id": "4a3a1bab",
   "metadata": {},
   "source": [
    "18. Generate a  10×10  matrix of zeros.\n",
    "Make this matrix an identity matrix"
   ]
  },
  {
   "cell_type": "code",
   "execution_count": 26,
   "id": "c320e7f2",
   "metadata": {},
   "outputs": [
    {
     "data": {
      "text/plain": [
       "array([[0., 0., 0., 0., 0., 0., 0., 0., 0., 0.],\n",
       "       [0., 0., 0., 0., 0., 0., 0., 0., 0., 0.],\n",
       "       [0., 0., 0., 0., 0., 0., 0., 0., 0., 0.],\n",
       "       [0., 0., 0., 0., 0., 0., 0., 0., 0., 0.],\n",
       "       [0., 0., 0., 0., 0., 0., 0., 0., 0., 0.],\n",
       "       [0., 0., 0., 0., 0., 0., 0., 0., 0., 0.],\n",
       "       [0., 0., 0., 0., 0., 0., 0., 0., 0., 0.],\n",
       "       [0., 0., 0., 0., 0., 0., 0., 0., 0., 0.],\n",
       "       [0., 0., 0., 0., 0., 0., 0., 0., 0., 0.],\n",
       "       [0., 0., 0., 0., 0., 0., 0., 0., 0., 0.]])"
      ]
     },
     "execution_count": 26,
     "metadata": {},
     "output_type": "execute_result"
    }
   ],
   "source": [
    "arr_11 = np.zeros((10,10))\n",
    "arr_11"
   ]
  },
  {
   "cell_type": "markdown",
   "id": "434544f2",
   "metadata": {},
   "source": [
    "19. Generate an array x to be a  10×10  array of zeros. Redefine its diagonal components (from left to right) to equal one"
   ]
  },
  {
   "cell_type": "code",
   "execution_count": 27,
   "id": "9f653d2c",
   "metadata": {
    "scrolled": true
   },
   "outputs": [
    {
     "data": {
      "text/plain": [
       "array([[1., 0., 0., 0., 0., 0., 0., 0., 0., 0.],\n",
       "       [0., 1., 0., 0., 0., 0., 0., 0., 0., 0.],\n",
       "       [0., 0., 1., 0., 0., 0., 0., 0., 0., 0.],\n",
       "       [0., 0., 0., 1., 0., 0., 0., 0., 0., 0.],\n",
       "       [0., 0., 0., 0., 1., 0., 0., 0., 0., 0.],\n",
       "       [0., 0., 0., 0., 0., 1., 0., 0., 0., 0.],\n",
       "       [0., 0., 0., 0., 0., 0., 1., 0., 0., 0.],\n",
       "       [0., 0., 0., 0., 0., 0., 0., 1., 0., 0.],\n",
       "       [0., 0., 0., 0., 0., 0., 0., 0., 1., 0.],\n",
       "       [0., 0., 0., 0., 0., 0., 0., 0., 0., 1.]])"
      ]
     },
     "execution_count": 27,
     "metadata": {},
     "output_type": "execute_result"
    }
   ],
   "source": [
    "arr_12 = np.zeros((10,10))\n",
    "arr_12\n",
    "\n",
    "np.fill_diagonal(arr_12, 1)\n",
    "arr_12"
   ]
  },
  {
   "cell_type": "markdown",
   "id": "4ff0163c",
   "metadata": {},
   "source": [
    "20. What is the dot products of this two matrix [[1,2],[3,4]] and [[5,6],[7,8]]"
   ]
  },
  {
   "cell_type": "code",
   "execution_count": 28,
   "id": "7459be92",
   "metadata": {},
   "outputs": [
    {
     "data": {
      "text/plain": [
       "array([[1, 2],\n",
       "       [3, 4]])"
      ]
     },
     "execution_count": 28,
     "metadata": {},
     "output_type": "execute_result"
    }
   ],
   "source": [
    "mat_1 = np.array([[1,2],[3,4]])\n",
    "mat_1"
   ]
  },
  {
   "cell_type": "code",
   "execution_count": 29,
   "id": "0e7a0336",
   "metadata": {
    "scrolled": true
   },
   "outputs": [
    {
     "data": {
      "text/plain": [
       "array([[5, 6],\n",
       "       [7, 8]])"
      ]
     },
     "execution_count": 29,
     "metadata": {},
     "output_type": "execute_result"
    }
   ],
   "source": [
    "mat_2 =  np.array([[5,6], [7,8]])\n",
    "mat_2"
   ]
  },
  {
   "cell_type": "code",
   "execution_count": 30,
   "id": "a8a2a7a7",
   "metadata": {},
   "outputs": [
    {
     "data": {
      "text/plain": [
       "array([[19, 22],\n",
       "       [43, 50]])"
      ]
     },
     "execution_count": 30,
     "metadata": {},
     "output_type": "execute_result"
    }
   ],
   "source": [
    "np.dot(mat_1, mat_2)"
   ]
  },
  {
   "cell_type": "markdown",
   "id": "7b090d8f",
   "metadata": {},
   "source": [
    "21.  Multiply these two matrix [[1,2],[3,4]] and [[5,6],[7,8]]"
   ]
  },
  {
   "cell_type": "code",
   "execution_count": 31,
   "id": "3a6500c1",
   "metadata": {
    "scrolled": true
   },
   "outputs": [
    {
     "data": {
      "text/plain": [
       "array([[1, 2],\n",
       "       [3, 4]])"
      ]
     },
     "execution_count": 31,
     "metadata": {},
     "output_type": "execute_result"
    }
   ],
   "source": [
    "mat_A = np.array([[1,2], [3,4]])\n",
    "mat_A"
   ]
  },
  {
   "cell_type": "code",
   "execution_count": 32,
   "id": "83ac2d2f",
   "metadata": {},
   "outputs": [
    {
     "data": {
      "text/plain": [
       "array([[5, 6],\n",
       "       [7, 8]])"
      ]
     },
     "execution_count": 32,
     "metadata": {},
     "output_type": "execute_result"
    }
   ],
   "source": [
    "mat_B = np.array([[5,6], [7,8]])\n",
    "mat_B"
   ]
  },
  {
   "cell_type": "code",
   "execution_count": 33,
   "id": "b1b50b48",
   "metadata": {},
   "outputs": [
    {
     "data": {
      "text/plain": [
       "array([[ 5, 12],\n",
       "       [21, 32]])"
      ]
     },
     "execution_count": 33,
     "metadata": {},
     "output_type": "execute_result"
    }
   ],
   "source": [
    "mat_A * mat_B"
   ]
  },
  {
   "cell_type": "markdown",
   "id": "81083127",
   "metadata": {},
   "source": [
    "22. Multiply this matrix  [[1,2],[3,4]] by a  scalar value of 5"
   ]
  },
  {
   "cell_type": "code",
   "execution_count": 34,
   "id": "3887e5c8",
   "metadata": {},
   "outputs": [
    {
     "data": {
      "text/plain": [
       "array([[1, 2],\n",
       "       [3, 4]])"
      ]
     },
     "execution_count": 34,
     "metadata": {},
     "output_type": "execute_result"
    }
   ],
   "source": [
    "scalar = 5\n",
    "mat_C = np.array([[1,2], [3,4]])\n",
    "mat_C"
   ]
  },
  {
   "cell_type": "code",
   "execution_count": 35,
   "id": "70eaf30b",
   "metadata": {},
   "outputs": [
    {
     "data": {
      "text/plain": [
       "array([[ 5, 10],\n",
       "       [15, 20]])"
      ]
     },
     "execution_count": 35,
     "metadata": {},
     "output_type": "execute_result"
    }
   ],
   "source": [
    "scalar * mat_C"
   ]
  },
  {
   "cell_type": "markdown",
   "id": "6c8f970c",
   "metadata": {},
   "source": [
    "23. A = [[1,2],[3,4]] and B = transpose of A. Calculate AxB"
   ]
  },
  {
   "cell_type": "code",
   "execution_count": 36,
   "id": "b0b4bad2",
   "metadata": {},
   "outputs": [
    {
     "data": {
      "text/plain": [
       "array([[1, 2],\n",
       "       [3, 4]])"
      ]
     },
     "execution_count": 36,
     "metadata": {},
     "output_type": "execute_result"
    }
   ],
   "source": [
    "A = np.array([[1,2], [3,4]])\n",
    "A"
   ]
  },
  {
   "cell_type": "code",
   "execution_count": 37,
   "id": "6147ddd9",
   "metadata": {
    "scrolled": true
   },
   "outputs": [
    {
     "data": {
      "text/plain": [
       "array([[1, 3],\n",
       "       [2, 4]])"
      ]
     },
     "execution_count": 37,
     "metadata": {},
     "output_type": "execute_result"
    }
   ],
   "source": [
    "B = A.transpose((1,0))\n",
    "B"
   ]
  },
  {
   "cell_type": "code",
   "execution_count": 38,
   "id": "72ebddb7",
   "metadata": {},
   "outputs": [
    {
     "data": {
      "text/plain": [
       "array([[ 1,  6],\n",
       "       [ 6, 16]])"
      ]
     },
     "execution_count": 38,
     "metadata": {},
     "output_type": "execute_result"
    }
   ],
   "source": [
    "A * B"
   ]
  },
  {
   "cell_type": "markdown",
   "id": "87bc118d",
   "metadata": {},
   "source": [
    "24. A= [[1,2],[3,4]] and B =  [[5,6],[7,8]]. Is A x B = B x A ? Show working"
   ]
  },
  {
   "cell_type": "code",
   "execution_count": 39,
   "id": "e808d227",
   "metadata": {
    "scrolled": true
   },
   "outputs": [
    {
     "data": {
      "text/plain": [
       "array([[1, 2],\n",
       "       [3, 4]])"
      ]
     },
     "execution_count": 39,
     "metadata": {},
     "output_type": "execute_result"
    }
   ],
   "source": [
    "A = np.array([[1,2], [3,4]])\n",
    "A"
   ]
  },
  {
   "cell_type": "code",
   "execution_count": 40,
   "id": "a3ce9eb0",
   "metadata": {},
   "outputs": [
    {
     "data": {
      "text/plain": [
       "array([[5, 6],\n",
       "       [7, 8]])"
      ]
     },
     "execution_count": 40,
     "metadata": {},
     "output_type": "execute_result"
    }
   ],
   "source": [
    "B = np.array([[5,6], [7,8]])\n",
    "B"
   ]
  },
  {
   "cell_type": "code",
   "execution_count": 41,
   "id": "2b8cc27e",
   "metadata": {},
   "outputs": [
    {
     "data": {
      "text/plain": [
       "array([[ 5, 12],\n",
       "       [21, 32]])"
      ]
     },
     "execution_count": 41,
     "metadata": {},
     "output_type": "execute_result"
    }
   ],
   "source": [
    "A * B "
   ]
  },
  {
   "cell_type": "code",
   "execution_count": 42,
   "id": "d04be848",
   "metadata": {
    "scrolled": false
   },
   "outputs": [
    {
     "data": {
      "text/plain": [
       "array([[ 5, 12],\n",
       "       [21, 32]])"
      ]
     },
     "execution_count": 42,
     "metadata": {},
     "output_type": "execute_result"
    }
   ],
   "source": [
    "B * A"
   ]
  },
  {
   "cell_type": "code",
   "execution_count": 50,
   "id": "8df36c8f",
   "metadata": {},
   "outputs": [
    {
     "data": {
      "text/plain": [
       "array([ True,  True,  True])"
      ]
     },
     "execution_count": 50,
     "metadata": {},
     "output_type": "execute_result"
    }
   ],
   "source": [
    "A * B == B * A"
   ]
  },
  {
   "cell_type": "markdown",
   "id": "390f3940",
   "metadata": {},
   "source": [
    "25. Creates an array [[0 1 2] [3 4 5]]\n",
    "- Let A = first row of the matrix\n",
    "- B = second row of the matrix\n",
    "- C = second column of the Matrix\n",
    "- D = first row, third column of the matrix\n",
    "- print A , B , C, D"
   ]
  },
  {
   "cell_type": "code",
   "execution_count": 43,
   "id": "1d69c6df",
   "metadata": {},
   "outputs": [
    {
     "data": {
      "text/plain": [
       "array([[0, 1, 2],\n",
       "       [3, 4, 5]])"
      ]
     },
     "execution_count": 43,
     "metadata": {},
     "output_type": "execute_result"
    }
   ],
   "source": [
    "array = np.array([[0,1,2], [3,4,5]])\n",
    "array"
   ]
  },
  {
   "cell_type": "code",
   "execution_count": 44,
   "id": "8b62afa7",
   "metadata": {},
   "outputs": [
    {
     "data": {
      "text/plain": [
       "array([0, 1, 2])"
      ]
     },
     "execution_count": 44,
     "metadata": {},
     "output_type": "execute_result"
    }
   ],
   "source": [
    "A = array[0]\n",
    "A"
   ]
  },
  {
   "cell_type": "code",
   "execution_count": 45,
   "id": "ded0a530",
   "metadata": {},
   "outputs": [
    {
     "data": {
      "text/plain": [
       "array([3, 4, 5])"
      ]
     },
     "execution_count": 45,
     "metadata": {},
     "output_type": "execute_result"
    }
   ],
   "source": [
    "B = array[1]\n",
    "B"
   ]
  },
  {
   "cell_type": "code",
   "execution_count": 46,
   "id": "3adfe3e2",
   "metadata": {},
   "outputs": [
    {
     "data": {
      "text/plain": [
       "array([1, 4])"
      ]
     },
     "execution_count": 46,
     "metadata": {},
     "output_type": "execute_result"
    }
   ],
   "source": [
    "C = array[:,1]\n",
    "C"
   ]
  },
  {
   "cell_type": "code",
   "execution_count": 47,
   "id": "d980e5b2",
   "metadata": {},
   "outputs": [
    {
     "data": {
      "text/plain": [
       "2"
      ]
     },
     "execution_count": 47,
     "metadata": {},
     "output_type": "execute_result"
    }
   ],
   "source": [
    "D = array[0][-1]\n",
    "D"
   ]
  },
  {
   "cell_type": "code",
   "execution_count": null,
   "id": "1d7511b6",
   "metadata": {},
   "outputs": [],
   "source": []
  }
 ],
 "metadata": {
  "kernelspec": {
   "display_name": "Python 3 (ipykernel)",
   "language": "python",
   "name": "python3"
  },
  "language_info": {
   "codemirror_mode": {
    "name": "ipython",
    "version": 3
   },
   "file_extension": ".py",
   "mimetype": "text/x-python",
   "name": "python",
   "nbconvert_exporter": "python",
   "pygments_lexer": "ipython3",
   "version": "3.9.13"
  }
 },
 "nbformat": 4,
 "nbformat_minor": 5
}
